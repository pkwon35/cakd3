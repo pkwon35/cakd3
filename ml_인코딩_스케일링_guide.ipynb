{
 "cells": [
  {
   "cell_type": "code",
   "execution_count": 4,
   "id": "a94329f9",
   "metadata": {},
   "outputs": [
    {
     "name": "stdout",
     "output_type": "stream",
     "text": [
      "[0 1 4 5 3 3 2 2]\n",
      "인코딩 변환값: [0 1 4 5 3 3 2 2]\n"
     ]
    }
   ],
   "source": [
    "# 레이블 인코딩\n",
    "from sklearn.preprocessing import LabelEncoder\n",
    "\n",
    "items = ['TV','냉장고','전자랜지','컴퓨터','선풍기','선풍기',\n",
    "         '믹서','믹서']\n",
    "encoder = LabelEncoder()\n",
    "labels = encoder.fit_transform(items)\n",
    "print(labels)\n",
    "print('인코딩 변환값:', labels)"
   ]
  },
  {
   "cell_type": "code",
   "execution_count": 3,
   "id": "20735ca4",
   "metadata": {},
   "outputs": [
    {
     "name": "stdout",
     "output_type": "stream",
     "text": [
      "인코딩 클래스: ['TV' '냉장고' '믹서' '선풍기' '전자랜지' '컴퓨터']\n"
     ]
    }
   ],
   "source": [
    "print('인코딩 클래스:',encoder.classes_)"
   ]
  },
  {
   "cell_type": "code",
   "execution_count": 6,
   "id": "94c87d09",
   "metadata": {},
   "outputs": [
    {
     "name": "stdout",
     "output_type": "stream",
     "text": [
      "디코딩 원본 값: ['TV' '냉장고' '전자랜지' '컴퓨터' '선풍기' '선풍기' '믹서' '믹서']\n"
     ]
    }
   ],
   "source": [
    "print('디코딩 원본 값:', encoder.inverse_transform([0,1,4,5,3,3,2,2]))"
   ]
  },
  {
   "cell_type": "code",
   "execution_count": 10,
   "id": "0acaa53e",
   "metadata": {},
   "outputs": [
    {
     "name": "stdout",
     "output_type": "stream",
     "text": [
      "원-핫 인코딩:\n",
      "[[1. 0. 0. 0. 0. 0.]\n",
      " [0. 1. 0. 0. 0. 0.]\n",
      " [0. 0. 0. 0. 1. 0.]\n",
      " [0. 0. 0. 0. 0. 1.]\n",
      " [0. 0. 0. 1. 0. 0.]\n",
      " [0. 0. 0. 1. 0. 0.]\n",
      " [0. 0. 1. 0. 0. 0.]\n",
      " [0. 0. 1. 0. 0. 0.]]\n"
     ]
    }
   ],
   "source": [
    "# 원-핫 인코딩\n",
    "from sklearn.preprocessing import OneHotEncoder\n",
    "import numpy as np\n",
    "items = ['TV','냉장고','전자랜지','컴퓨터','선풍기','선풍기',\n",
    "         '믹서','믹서']\n",
    "encoder = LabelEncoder()\n",
    "labels = encoder.fit_transform(items)\n",
    "labels = labels.reshape(-1,1)\n",
    "labels\n",
    "\n",
    "oh_encoder = OneHotEncoder()\n",
    "oh_labels = oh_encoder.fit_transform(labels)\n",
    "print('원-핫 인코딩:')\n",
    "print(oh_labels.toarray())"
   ]
  },
  {
   "cell_type": "code",
   "execution_count": null,
   "id": "3af789d8",
   "metadata": {},
   "outputs": [],
   "source": [
    "# 과제\n",
    "# Q. itesms를 pd.get_dummies()를 사용하여 원핫인코딩 하세요\n",
    "# items = ['TV','냉장고','전자랜지','컴퓨터','선풍기','선풍기',\n",
    "#          '믹서','믹서']"
   ]
  },
  {
   "cell_type": "code",
   "execution_count": null,
   "id": "74f3bfa7",
   "metadata": {},
   "outputs": [],
   "source": [
    "# 과제\n",
    "# Q. 붓꼿 데이터 셋의 독립변수들을 2가지 방법으로 스케일링 한 후 \n",
    "# 평균 값과 분산 값을 출력하세요.\n",
    "# - 0과 1사이의 범위로 스케일링\n",
    "# - 평균 0, 표준편차 1인 분포로 스케일링"
   ]
  }
 ],
 "metadata": {
  "kernelspec": {
   "display_name": "Python 3",
   "language": "python",
   "name": "python3"
  },
  "language_info": {
   "codemirror_mode": {
    "name": "ipython",
    "version": 3
   },
   "file_extension": ".py",
   "mimetype": "text/x-python",
   "name": "python",
   "nbconvert_exporter": "python",
   "pygments_lexer": "ipython3",
   "version": "3.8.10"
  }
 },
 "nbformat": 4,
 "nbformat_minor": 5
}
