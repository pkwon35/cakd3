{
 "cells": [
  {
   "cell_type": "markdown",
   "id": "8d4190ed",
   "metadata": {},
   "source": [
    "미국 아이오와 주의 에임스 지방의 주택가격 정보\n",
    "\n",
    "https://www.kaggle.com/c/house-prices-advanced-regression-techniques/data"
   ]
  },
  {
   "cell_type": "markdown",
   "id": "8686ebde",
   "metadata": {},
   "source": [
    "Q. 상기 데이터로 아래 사항에 유의하여 다음 사항을 수행하세요.\n",
    "- LinearRegression, Ridge, Lasso를 이용하여 모델링 및 평가\n",
    " - 평가는 RMSLE(가격이 비싼 주택일수록 예측 결과 오류가 전체 오류에 미치는 비중이 높은 것을 상쇄하기 위하여 오류 값을 로그 변환하여 평가)\n",
    " - Null이 많은 컬럼과 불필요한 컬럼 삭제\n",
    " - 삭제하지 않은 숫자형 컬럼은 평균값으로 대체\n",
    " - 문자형 피처는 원-핫인코딩으로 변환\n",
    " - 피처별 회귀 계수 시각화 및 모델별 비교\n",
    " - 교차검증 수행 후 모델별 비교 - cross_val_score 이용\n",
    " - 각 모델별 평가 결과 비교 분석 및 개선 방안 기술\n",
    "- Ridge와 Lasso 모델에 대하여 하이퍼 파라미터 튜닝하면서 최적 값 도출 후 학습/예측/평가 수행 및 회귀 계수 시각화\n",
    "- 피처 데이터 세트의 분포도 검토 후 로그 변환 및 종속변수와 상관관계가 높은 독립변수의 이상치를 제거 후 학습/예측/평가 수행 및 시각화\n",
    "- 회귀 트리 모델을 이용해 학습/예측/평가 수행 및 피처 중요도 시각화"
   ]
  }
 ],
 "metadata": {
  "kernelspec": {
   "display_name": "Python 3",
   "language": "python",
   "name": "python3"
  },
  "language_info": {
   "codemirror_mode": {
    "name": "ipython",
    "version": 3
   },
   "file_extension": ".py",
   "mimetype": "text/x-python",
   "name": "python",
   "nbconvert_exporter": "python",
   "pygments_lexer": "ipython3",
   "version": "3.8.10"
  }
 },
 "nbformat": 4,
 "nbformat_minor": 5
}
