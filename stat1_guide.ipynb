{
 "cells": [
  {
   "cell_type": "markdown",
   "id": "29ee8289",
   "metadata": {},
   "source": [
    "[모집단 분포와 표본분포]  \n",
    "\n",
    "- 모집단: 어떤 통계적 실험의 대상이 되는 모든 대상물. ex. 대한민국 모든 남성의 키 데이터, 2018 수능점수 데이터\n",
    "- 모집단 분포: 모집단은 데이터 집단이므로 어떠한 분포를 이루며 이 데이터가 이루는 확률 분포가 모집단 분포\n",
    "- 모수: 모집단의 특성을 나타내는 수치로 모평균,모분산,모표준편차,모비율,모상관관계 등  \n",
    "  수능점수 전체데이터를 알고 싶은 것이 아니라 전체 수능점수 평균, 표준편차를 알고 싶어한다.\n",
    "  수능점수와 달리 일반적으로 대부분의 모집단 분포는 완전하게 알려진 것이 없으며 전수조사는 경제적, 공간적, 시간적 제약으로 인해 거의 불가능\n",
    "- 표본: 모집단의 모수(특성)을 알기 위하여 표본을 추출해서 모집단의 모수를 추정\n",
    "- 확률표본:  모집단을 구성하는 모든 구성원이 표본으로 뽑힐 확률을 동일하게 하여 추출한 표본. Random이란 무작위라는 의미로, 어떠한 의도를 가지지 않는다는 것을 의미하며, 모든 구성원이 뽑힐 확률이 동일하다는 개념. \n",
    "- 통계량: 확률표본의 특성을 설명하는 값으로 표본평균, 표본분산, 표본표준편차, 표본비율, 표본상관관계 등  \n",
    "  모수는 모집단이 변하지 않기 때문에 그 값이 변하지 않으나 통계량은 표본을 어떻게 추출하느냐에 따라서 그 값이 다르게 나타난다.\n",
    "- 확률변수: 무작위 실험을 했을 때 특정 확률로 발생하는 각각의 결과를 수치값으로 표현한 변수. 동전의 앞과 뒤\n",
    "- 확률분포: 확률변수 X의 모든 값과 그 에 대응하는 확률값들의 분포. 동전의 앞 0.5, 뒤 0.5 \n",
    "- 무작위로 표본 30개씩 반복해서 100번 추출하면 100번 추출한 표본 30개의 평균값들을 100개 구할 수 있다. 추출된 표본들의 각 평균값들에 대한 발생 분포를 그려보면 특정 확률변수에 대응하는 확률을 가진 확률 분포를 그릴 수 있다. 이것을 통계량의 확률분포라고 할 수 있고 이를 표본분포라고 부른다. \n",
    "- 통계량이 확률 변수라는 의미: 확률변수의 확률분포가 수학적으로 설명가능한 분포(예, 정규분포)를 따른다고 하면 특정 확률변수와 확률함수를 알고 있다면 특정 사건이 일어날 확률을 계산할 수 있으며 더 나아가 모수와 통계량의 관계를 알고 있다면 그것을 통해 모수에 대한 통계적인 추정을 할 수 있다. 즉 통계량의 확률 함수 또는 표본 분포를 안다고 가정하면 이를 이용해 모수를 추정할 수 있다. \n",
    "\n",
    "[표본통계량 성질]\n",
    "\n",
    "- 샘플사이즈가 크면 표본평균은 모평균에 가까워진다.\n",
    "- 샘플사이즈가 커질수록 표본평균의 표준편차가 작아짐. 샘플사이즈를 크게 하면 흩어짐이 적은 신뢰할 수 있는 표본평균을 얻을 수 있다.\n",
    "- 표준오차는이론상 표본평균의 표준편차 크기인데 샘플사이즈가 커지면 표준오차는 작아짐\n",
    "- 모분산은 0.64, 표본분산의 평균값은 0.575로 분산이 과소평가되어짐 -> 불편분산을 사용, 편향을 제거(ddof =1)\n",
    "- 샘플사이즈가 커질수록 불편분산은 모분산(0.64)에 가까워짐\n",
    "- 불편성 : 추정량의 기댓값이 진짜 모수(모집단의 파라미터)가 되는 특성. 편향이 없는 추정량\n",
    "- 일치성 : 샘플사이즈가 커지면 추정량이 진짜 모수에 가까워지는 특성\n",
    "- 표본평균과 불편분산은 둘다 불편성을 가지고 있다고 할 수 있다.\n",
    "- 샘플사이즈를 크게 하면 표본평균은 모평균에 가까워지고 불편분산은 모분산에 가까워지므로 일치성을 가짐\n",
    "- 큰수의 법칙 : 표본의 크기가 커지면 표본평균이 모평균에 가까워지는 방법을 표현한 법칙\n",
    "- 중심극한정리 : 모집단분포가 무엇이든지간에 샘플사이즈가 커지면 표본 평균들이 이루는 분포가 모집단의 평균μ, 표준편차σ/sqrt(n)인 정규분포에 가까워진다는 정리  \n",
    "  https://drhongdatanote.tistory.com/57 \n",
    "\n",
    "[표본분산이 분산을 과소평가하는 이유]\n",
    "\n",
    "- 분산은 '데이터와 평균값의 간의 거리' 이므로 모평균 간의 거리를 계산 : np.sum((fish_data - mu)**2)/N  \n",
    "호수안에 물고기가 7마리 있다. 몸길이 {1,2,3,4,5,6,7}, 모평균 4,  \n",
    "샘플링 3마리 {1,2,3} 표본평균 2  \n",
    "이때 분산은 모평균을 모르기 때문에 표본평균과의 거리를 계산하며 분산을 과소평가 하게된다.\n",
    "- 표본 분산 보다 조금 더 큰 값이 되도록 보정하기 위하여 N 대신 N-1로 나누어 불편분산을 구할 수 있다.\n",
    "    \n",
    "[통계량 선정시 평가기준]\n",
    "\n",
    "- 불편성: 표본으로부터 구한 통계량의 기대치가 추정하려 하는 모수의 실제 값에 같거나 가까워지는 성질을 의미\n",
    "- 효율성: 모수 추정시 분산이 작을수록 모수를 정확하게 추정할 가능성이 높다.\n",
    "- 일치성: 표본의 크기가 커감에 따라서 표본의 통계량이 모집단의 모수와 일치하는 것을 의미\n",
    "- 충분성: 동일한 표본으로부터 얻은 추정량이 모집단의 모수에 대한 정보를 더 많이 제공하는 것을 의미\n",
    "    \n",
    "[정규분포]  \n",
    "https://quickdata.tistory.com/26  \n",
    "https://math100.tistory.com/40  \n",
    "정규분포는 연속확률분포로서 가장 자주 쓰이는 확률분포입니다. 모양은 평균을 중심으로 하나의 봉우리형태를 띄며 한 집단의 많은 사람들의 키, 몸무게, 시험성적 등의 데이터에 잘 나타나는 분포\n",
    "\n",
    "- 누적분포함수 : 확률분포에서 얻은 확률변수 3 이하가 되는 확률. Cumulative density function\n",
    " - stats.norm.cdf(loc = 4, scale = 0.8, x = 3)\n",
    "- 정규분포의 확률밀도 계산\n",
    " - 확률변수 3일때의 확률밀도 N(3|4,0.8**2)\n",
    " - stats.norm.pdf(loc = 4, scale = 0.8, x = 3)  Probability density function\n",
    "- 하측확률 : \"확률변수 x가 N보다 낮을 확률은 M퍼센트다\" 에서 N을 고정하고 M을 구하는 경우\n",
    " - 이때의 M이 하측확률이며 M(확률)을 고정하고 N(변수)을 구하는 경우 이때의 N이 퍼센트포인트 하측확률이 2.5%가 되는 퍼센트포인트\n",
    " - stats.norm.ppf(loc = 4, scale = 0.8, q = 0.025) Percent point function\n",
    "- stats.norm.pdf(x=x)로 하여 loc와 scale을 지정하지 않을 경우 표준정규분포가 됨. probability density function\n",
    "- stats.norm.rvs() 함수는 정규확률분포로부터 난수 생성. Random variates\n",
    "- t분포의 의미 : 모분산을 모르는 상황에서도 표본평균의 분포에 대해 애기할 수 있으며\n",
    " - t분포를 만들 때 표본에서 계산한 포준오차로 표본평균을 표준화함\n",
    " - 표본에서 계산한 표준오차로 표본평균을 표준화했을 경우의 결과가 t분포를 따른다는 사실을 이용하면 얻어낸 표본평균에 관한 불확실성을 짐작할 수 있음.\n",
    "    \n",
    "[t분포의 특성]\n",
    "\n",
    "t분포는 모집단이 정규분포 이더라도 분산 σ²이 알려져 있지 않고 표분의 수가 적은 경우에, 평균 μ에 대한 신뢰구간 추정 및 가설검정에 아주 유용하게 쓰이는 분포\n",
    "1. t분포는 표준정규분포처럼 0을 중심으로 종형의 모습을 가진 대칭 분포이다.\n",
    "2. t분포의 꼬리는 표준정규분포보다 두껍다(fat tail).\n",
    "3. t분포는 자유도 n에 따라 모습이 변하는데, 자유도 n이 커짐에 따라 표준정규분포 N(0,1)에 수렴한다.  \n",
    "통상 모집단의 분산이 알려져 있지 않은 경우, 표분분포를 결정할 때 표본의 크기가 30 이하이면 t분포를, 그 크기가 30 이상이면 표준정규분포를 이용\n",
    "\n",
    "[일반선형모형 vs. 일반화선형모형]\n",
    "\n",
    "일반선형모형과 일반화선형모형의 주요 차이점은 바로 접근의 차이이다. 일반선형모형(General linear model, 이하 GLM)은 엄격하게(strictly) 잔차들이 조건부 정규분포를 따른다고 가정하는 반면 일반화선형모형(Generalized linear model, 이하 GLiM)은 이 가정을 엄격하게 따르지 않는다. 즉, 잔차들이 exponential family 등 다양한 다른 분포를 가질 수 있다고 가정한다.\n",
    "\n",
    "일반화선형모형은 종속변수에 적절한 link function을 적용하는 방법이다. 이는 오차항의 확률 분포를 무엇으로 보느냐에 따라 어느정도 정해져 있는데, 오차항의 확률분포가 binomial이면 link function은 logit이고, exponential이면 inverse, poisson이면 log를 link function으로 취한다.\n",
    "\n",
    "[일반화선형모델과 관계가 깊은 확률분포]\n",
    "\n",
    "- 정규분포 이외의 확률분포를 사용할 수 있다는 것이 일반화선형모델의 큰 특징이며 \n",
    "- 정규분포 이외에 이항분포, 푸아송분포 등 일반화선형모델과 관계가 깊은 확률분포가 있음\n",
    "- 이항분포 : 정규분포와 달리 좌우 비대칭인 히스토그램 확인\n",
    "- 푸아송 분포 : 카운트 데이터가 따르는 이산형 확률분포\n",
    " - 카운트 데이터가 0 이상의 정수라는 특징\n",
    " - 모수는 강도(일이 일어날 횟수에 대한 기댓값, 발생 강도) 람다밖에 없음\n",
    " - 푸아송 분포는 이항분포에서 도출할 수 있으며 푸아송 분포는 성공확률이 한없이 0에 가깝지만 시행횟수가 무한히 많은 이항분포임\n",
    "\n",
    "[이항분포와 푸아송 분포의 관계]\n",
    "\n",
    "- 푸아송 분포는 1개, 또는 2개 등의 카운트 데이터가 따르는 이산형 확률분포\n",
    "- 푸아송 분포의 모수는 강도(일이 일어날 횟수에 대한 기대값, 발생 강도) 람다밖에 없으며 기댓값과 분산도 람다값과 같다.\n",
    "- 예를들어 하루의 교통사고 사상자수라는 카운트 데이터가 있다고 할 때 사고에 휘말릴 가능성이 있는 사람 수는 길을 걷고 있는 모든 사람 수이므로 N은 매우 큰 값이 되며 사고에 휘말릴 확률 p는 매우 작다. 일어나기 어려운 사건이지만 대상이 되는 사람 수가 굉장히 많을 때의 발생건수가 푸아송 분포를 따른다고 할 수 있다.\n",
    "- 성공확률이 한없이 0에 가깝지만 시행횟수가 무한히 많은 이항분포라고 할 수 있다."
   ]
  },
  {
   "cell_type": "code",
   "execution_count": 1,
   "id": "bedbec18",
   "metadata": {},
   "outputs": [
    {
     "data": {
      "text/plain": [
       "array([2, 3, 3, 4, 4, 4, 4, 5, 5, 6])"
      ]
     },
     "execution_count": 1,
     "metadata": {},
     "output_type": "execute_result"
    }
   ],
   "source": [
    "import numpy as np\n",
    "import pandas as pd\n",
    "fish_data = np.array([2,3,3,4,4,4,4,5,5,6])\n",
    "fish_data"
   ]
  },
  {
   "cell_type": "code",
   "execution_count": 2,
   "id": "4b3c6002",
   "metadata": {},
   "outputs": [
    {
     "data": {
      "text/plain": [
       "40"
      ]
     },
     "execution_count": 2,
     "metadata": {},
     "output_type": "execute_result"
    }
   ],
   "source": [
    "np.sum(fish_data)"
   ]
  },
  {
   "cell_type": "code",
   "execution_count": 3,
   "id": "29bf7676",
   "metadata": {},
   "outputs": [
    {
     "data": {
      "text/plain": [
       "10"
      ]
     },
     "execution_count": 3,
     "metadata": {},
     "output_type": "execute_result"
    }
   ],
   "source": [
    "len(fish_data)"
   ]
  },
  {
   "cell_type": "code",
   "execution_count": 4,
   "id": "3ac76b90",
   "metadata": {},
   "outputs": [
    {
     "data": {
      "text/plain": [
       "4.0"
      ]
     },
     "execution_count": 4,
     "metadata": {},
     "output_type": "execute_result"
    }
   ],
   "source": [
    "# 평균\n",
    "N = len(fish_data)\n",
    "sum_value = np.sum(fish_data)\n",
    "mu = sum_value/N\n",
    "mu"
   ]
  },
  {
   "cell_type": "code",
   "execution_count": 5,
   "id": "575062d7",
   "metadata": {},
   "outputs": [
    {
     "data": {
      "text/plain": [
       "4.0"
      ]
     },
     "execution_count": 5,
     "metadata": {},
     "output_type": "execute_result"
    }
   ],
   "source": [
    "np.mean(fish_data)"
   ]
  },
  {
   "cell_type": "code",
   "execution_count": 6,
   "id": "f00cea47",
   "metadata": {},
   "outputs": [
    {
     "data": {
      "text/plain": [
       "1.2"
      ]
     },
     "execution_count": 6,
     "metadata": {},
     "output_type": "execute_result"
    }
   ],
   "source": [
    "# 표본분산\n",
    "sigma_2_sample = np.sum((fish_data-mu)**2)/N\n",
    "sigma_2_sample"
   ]
  },
  {
   "cell_type": "code",
   "execution_count": 10,
   "id": "6bb6de1d",
   "metadata": {},
   "outputs": [
    {
     "data": {
      "text/plain": [
       "1.2"
      ]
     },
     "execution_count": 10,
     "metadata": {},
     "output_type": "execute_result"
    }
   ],
   "source": [
    "np.var(fish_data)"
   ]
  },
  {
   "cell_type": "code",
   "execution_count": 11,
   "id": "d2e76c5e",
   "metadata": {},
   "outputs": [
    {
     "data": {
      "text/plain": [
       "1.0954451150103321"
      ]
     },
     "execution_count": 11,
     "metadata": {},
     "output_type": "execute_result"
    }
   ],
   "source": [
    "np.std(fish_data)"
   ]
  },
  {
   "cell_type": "code",
   "execution_count": 12,
   "id": "e609dd43",
   "metadata": {},
   "outputs": [
    {
     "data": {
      "text/plain": [
       "1.2"
      ]
     },
     "execution_count": 12,
     "metadata": {},
     "output_type": "execute_result"
    }
   ],
   "source": [
    "np.var(fish_data,ddof=0)"
   ]
  },
  {
   "cell_type": "code",
   "execution_count": 14,
   "id": "93be6653",
   "metadata": {},
   "outputs": [
    {
     "data": {
      "text/plain": [
       "1.0954451150103321"
      ]
     },
     "execution_count": 14,
     "metadata": {},
     "output_type": "execute_result"
    }
   ],
   "source": [
    "np.std(fish_data,ddof=0)"
   ]
  },
  {
   "cell_type": "code",
   "execution_count": 15,
   "id": "90d58abe",
   "metadata": {},
   "outputs": [
    {
     "data": {
      "text/plain": [
       "1.3333333333333333"
      ]
     },
     "execution_count": 15,
     "metadata": {},
     "output_type": "execute_result"
    }
   ],
   "source": [
    "# 불편분산\n",
    "np.var(fish_data,ddof=1)"
   ]
  },
  {
   "cell_type": "code",
   "execution_count": 20,
   "id": "3486c362",
   "metadata": {},
   "outputs": [
    {
     "data": {
      "text/plain": [
       "1.15"
      ]
     },
     "execution_count": 20,
     "metadata": {},
     "output_type": "execute_result"
    }
   ],
   "source": [
    "np.std(fish_data,ddof=1).round(2)\n",
    "std2 = np.std(fish_data,ddof=1)\n",
    "np.round(std2,2)"
   ]
  },
  {
   "cell_type": "code",
   "execution_count": 22,
   "id": "3f3c3e23",
   "metadata": {},
   "outputs": [
    {
     "name": "stdout",
     "output_type": "stream",
     "text": [
      "[ 0  1  2  3  4  5  6  7  8  9 10 11 12 13 14]\n",
      "7.0\n",
      "20.0\n",
      "4.47213595499958\n"
     ]
    },
    {
     "data": {
      "text/plain": [
       "0.0"
      ]
     },
     "execution_count": 22,
     "metadata": {},
     "output_type": "execute_result"
    }
   ],
   "source": [
    "# Q. a의 평균, 분산, 표준편차, 편차의 평균을 구하세요.\n",
    "# a = np.arange(15)\n",
    "# A.\n",
    "a = np.arange(15)\n",
    "print(a)\n",
    "m=np.mean(a)\n",
    "v=np.var(a,ddof=1)\n",
    "s=np.std(a,ddof=1)\n",
    "print(m)\n",
    "print(v)\n",
    "print(s)\n",
    "np.mean(a-m)"
   ]
  },
  {
   "cell_type": "code",
   "execution_count": 26,
   "id": "02ed4f0d",
   "metadata": {},
   "outputs": [
    {
     "data": {
      "text/plain": [
       "4.75"
      ]
     },
     "execution_count": 26,
     "metadata": {},
     "output_type": "execute_result"
    }
   ],
   "source": [
    "from scipy import stats\n",
    "stats.scoreatpercentile(fish_data,75)"
   ]
  },
  {
   "cell_type": "code",
   "execution_count": 29,
   "id": "961dc168",
   "metadata": {},
   "outputs": [],
   "source": [
    "fish_data2 = np.array([2,3,3,4,4,4,4,5,5,6,100])"
   ]
  },
  {
   "cell_type": "code",
   "execution_count": null,
   "id": "f5efa7dd",
   "metadata": {},
   "outputs": [],
   "source": [
    "print(fish_data2)\n",
    "print('평균:',fish_data2.mean().round(2))\n",
    "print('중앙값:',np.median(fish_data2))"
   ]
  },
  {
   "cell_type": "markdown",
   "id": "65d4eeaa",
   "metadata": {},
   "source": [
    "- 그룹별 통계량 : mean(), std(), describe()\n",
    "- 교차분석표 : pivot_table()\n",
    "- 깔끔한 데이터 : 행 하나에 1개의 결과가 있도록 정리. 교차분석표는 행이 변수의 의미를 갖는 경향이 있음\n",
    "- 공분산 :\n",
    " - 공분산 : 2개의 연속형 변수의 관계성을 확인하는 통계량\n",
    " - 공분산이 0보다 클 때 : 변수 한쪽이 큰 값을 갖게되면 다른 한 쪽도 커짐\n",
    " - 공분산이 0보다 작을 때 : 변수 한쪽이 큰 값을 갖게되면 다른 한 쪽도 작아짐\n",
    " - 공분산이 0일 때 : 변수 사이에 관계성이 없음\n",
    " - 공분산은 편리한 지표지만 최대값이나 최소값이 얼마가 될 지 알 수가 없으며\n",
    " - 단위가 cm에서 m로 변하면 공분산의 값도 변함. 사용이 편하도록 -1 ~ +1의 범위로 보정\n",
    "- 피어슨 상관계수 : 공분산을 최대값 1, 최소값 -1 사이가 되도록 표준화\n",
    " - cov / sp.sqrt(sigma_2_x * sigma_2_y)\n",
    " - 상관행렬 : 여러 변수의 상관계수들을 행렬 형태로 정리\n",
    " - 상관계수가 무의미할 때 : 상관계수가 0에 가까운 값을 가질 때는 실제 그래프로 관계를 확인"
   ]
  },
  {
   "cell_type": "code",
   "execution_count": 1,
   "id": "c54175af",
   "metadata": {},
   "outputs": [
    {
     "data": {
      "text/html": [
       "<div>\n",
       "<style scoped>\n",
       "    .dataframe tbody tr th:only-of-type {\n",
       "        vertical-align: middle;\n",
       "    }\n",
       "\n",
       "    .dataframe tbody tr th {\n",
       "        vertical-align: top;\n",
       "    }\n",
       "\n",
       "    .dataframe thead th {\n",
       "        text-align: right;\n",
       "    }\n",
       "</style>\n",
       "<table border=\"1\" class=\"dataframe\">\n",
       "  <thead>\n",
       "    <tr style=\"text-align: right;\">\n",
       "      <th></th>\n",
       "      <th>species</th>\n",
       "      <th>length</th>\n",
       "    </tr>\n",
       "  </thead>\n",
       "  <tbody>\n",
       "    <tr>\n",
       "      <th>0</th>\n",
       "      <td>A</td>\n",
       "      <td>2</td>\n",
       "    </tr>\n",
       "    <tr>\n",
       "      <th>1</th>\n",
       "      <td>A</td>\n",
       "      <td>3</td>\n",
       "    </tr>\n",
       "    <tr>\n",
       "      <th>2</th>\n",
       "      <td>A</td>\n",
       "      <td>4</td>\n",
       "    </tr>\n",
       "    <tr>\n",
       "      <th>3</th>\n",
       "      <td>B</td>\n",
       "      <td>6</td>\n",
       "    </tr>\n",
       "    <tr>\n",
       "      <th>4</th>\n",
       "      <td>B</td>\n",
       "      <td>8</td>\n",
       "    </tr>\n",
       "    <tr>\n",
       "      <th>5</th>\n",
       "      <td>B</td>\n",
       "      <td>10</td>\n",
       "    </tr>\n",
       "  </tbody>\n",
       "</table>\n",
       "</div>"
      ],
      "text/plain": [
       "  species  length\n",
       "0       A       2\n",
       "1       A       3\n",
       "2       A       4\n",
       "3       B       6\n",
       "4       B       8\n",
       "5       B      10"
      ]
     },
     "execution_count": 1,
     "metadata": {},
     "output_type": "execute_result"
    }
   ],
   "source": [
    "import pandas as pd\n",
    "fish_multi = pd.read_csv('dataset/5_2_fm.csv')\n",
    "fish_multi"
   ]
  },
  {
   "cell_type": "code",
   "execution_count": 2,
   "id": "81cf6c0a",
   "metadata": {},
   "outputs": [
    {
     "name": "stdout",
     "output_type": "stream",
     "text": [
      "         length\n",
      "species        \n",
      "A             3\n",
      "B             8\n",
      "         length\n",
      "species        \n",
      "A           1.0\n",
      "B           2.0\n"
     ]
    },
    {
     "data": {
      "text/html": [
       "<div>\n",
       "<style scoped>\n",
       "    .dataframe tbody tr th:only-of-type {\n",
       "        vertical-align: middle;\n",
       "    }\n",
       "\n",
       "    .dataframe tbody tr th {\n",
       "        vertical-align: top;\n",
       "    }\n",
       "\n",
       "    .dataframe thead tr th {\n",
       "        text-align: left;\n",
       "    }\n",
       "\n",
       "    .dataframe thead tr:last-of-type th {\n",
       "        text-align: right;\n",
       "    }\n",
       "</style>\n",
       "<table border=\"1\" class=\"dataframe\">\n",
       "  <thead>\n",
       "    <tr>\n",
       "      <th></th>\n",
       "      <th colspan=\"8\" halign=\"left\">length</th>\n",
       "    </tr>\n",
       "    <tr>\n",
       "      <th></th>\n",
       "      <th>count</th>\n",
       "      <th>mean</th>\n",
       "      <th>std</th>\n",
       "      <th>min</th>\n",
       "      <th>25%</th>\n",
       "      <th>50%</th>\n",
       "      <th>75%</th>\n",
       "      <th>max</th>\n",
       "    </tr>\n",
       "    <tr>\n",
       "      <th>species</th>\n",
       "      <th></th>\n",
       "      <th></th>\n",
       "      <th></th>\n",
       "      <th></th>\n",
       "      <th></th>\n",
       "      <th></th>\n",
       "      <th></th>\n",
       "      <th></th>\n",
       "    </tr>\n",
       "  </thead>\n",
       "  <tbody>\n",
       "    <tr>\n",
       "      <th>A</th>\n",
       "      <td>3.0</td>\n",
       "      <td>3.0</td>\n",
       "      <td>1.0</td>\n",
       "      <td>2.0</td>\n",
       "      <td>2.5</td>\n",
       "      <td>3.0</td>\n",
       "      <td>3.5</td>\n",
       "      <td>4.0</td>\n",
       "    </tr>\n",
       "    <tr>\n",
       "      <th>B</th>\n",
       "      <td>3.0</td>\n",
       "      <td>8.0</td>\n",
       "      <td>2.0</td>\n",
       "      <td>6.0</td>\n",
       "      <td>7.0</td>\n",
       "      <td>8.0</td>\n",
       "      <td>9.0</td>\n",
       "      <td>10.0</td>\n",
       "    </tr>\n",
       "  </tbody>\n",
       "</table>\n",
       "</div>"
      ],
      "text/plain": [
       "        length                                    \n",
       "         count mean  std  min  25%  50%  75%   max\n",
       "species                                           \n",
       "A          3.0  3.0  1.0  2.0  2.5  3.0  3.5   4.0\n",
       "B          3.0  8.0  2.0  6.0  7.0  8.0  9.0  10.0"
      ]
     },
     "execution_count": 2,
     "metadata": {},
     "output_type": "execute_result"
    }
   ],
   "source": [
    "# 그룹별 통계량 계산\n",
    "group = fish_multi.groupby('species')\n",
    "print(group.mean())\n",
    "print(group.std(ddof=1))\n",
    "group.describe()"
   ]
  },
  {
   "cell_type": "code",
   "execution_count": 2,
   "id": "91ae0b85",
   "metadata": {},
   "outputs": [
    {
     "data": {
      "text/html": [
       "<div>\n",
       "<style scoped>\n",
       "    .dataframe tbody tr th:only-of-type {\n",
       "        vertical-align: middle;\n",
       "    }\n",
       "\n",
       "    .dataframe tbody tr th {\n",
       "        vertical-align: top;\n",
       "    }\n",
       "\n",
       "    .dataframe thead th {\n",
       "        text-align: right;\n",
       "    }\n",
       "</style>\n",
       "<table border=\"1\" class=\"dataframe\">\n",
       "  <thead>\n",
       "    <tr style=\"text-align: right;\">\n",
       "      <th></th>\n",
       "      <th>x</th>\n",
       "      <th>y</th>\n",
       "    </tr>\n",
       "  </thead>\n",
       "  <tbody>\n",
       "    <tr>\n",
       "      <th>0</th>\n",
       "      <td>18.5</td>\n",
       "      <td>34</td>\n",
       "    </tr>\n",
       "    <tr>\n",
       "      <th>1</th>\n",
       "      <td>18.7</td>\n",
       "      <td>39</td>\n",
       "    </tr>\n",
       "    <tr>\n",
       "      <th>2</th>\n",
       "      <td>19.1</td>\n",
       "      <td>41</td>\n",
       "    </tr>\n",
       "    <tr>\n",
       "      <th>3</th>\n",
       "      <td>19.7</td>\n",
       "      <td>38</td>\n",
       "    </tr>\n",
       "    <tr>\n",
       "      <th>4</th>\n",
       "      <td>21.5</td>\n",
       "      <td>45</td>\n",
       "    </tr>\n",
       "    <tr>\n",
       "      <th>5</th>\n",
       "      <td>21.7</td>\n",
       "      <td>41</td>\n",
       "    </tr>\n",
       "    <tr>\n",
       "      <th>6</th>\n",
       "      <td>21.8</td>\n",
       "      <td>52</td>\n",
       "    </tr>\n",
       "    <tr>\n",
       "      <th>7</th>\n",
       "      <td>22.0</td>\n",
       "      <td>44</td>\n",
       "    </tr>\n",
       "    <tr>\n",
       "      <th>8</th>\n",
       "      <td>23.4</td>\n",
       "      <td>44</td>\n",
       "    </tr>\n",
       "    <tr>\n",
       "      <th>9</th>\n",
       "      <td>23.8</td>\n",
       "      <td>49</td>\n",
       "    </tr>\n",
       "  </tbody>\n",
       "</table>\n",
       "</div>"
      ],
      "text/plain": [
       "      x   y\n",
       "0  18.5  34\n",
       "1  18.7  39\n",
       "2  19.1  41\n",
       "3  19.7  38\n",
       "4  21.5  45\n",
       "5  21.7  41\n",
       "6  21.8  52\n",
       "7  22.0  44\n",
       "8  23.4  44\n",
       "9  23.8  49"
      ]
     },
     "execution_count": 2,
     "metadata": {},
     "output_type": "execute_result"
    }
   ],
   "source": [
    "cov_data = pd.read_csv('dataset/4_cov.csv')\n",
    "cov_data"
   ]
  },
  {
   "cell_type": "code",
   "execution_count": null,
   "id": "5bde3a51",
   "metadata": {},
   "outputs": [],
   "source": [
    "# 과제\n",
    "# Q1. 공분산을 풀어서 구하세요."
   ]
  },
  {
   "cell_type": "code",
   "execution_count": null,
   "id": "e42da1af",
   "metadata": {},
   "outputs": [],
   "source": [
    "# 과제\n",
    "# Q2. 상관계수를 풀어서 구하세요."
   ]
  },
  {
   "cell_type": "code",
   "execution_count": 3,
   "id": "2e52ba8c",
   "metadata": {},
   "outputs": [
    {
     "data": {
      "text/plain": [
       "array([[ 3.64622222,  7.67333333],\n",
       "       [ 7.67333333, 28.01111111]])"
      ]
     },
     "execution_count": 3,
     "metadata": {},
     "output_type": "execute_result"
    }
   ],
   "source": [
    "# 공분산 행렬\n",
    "import scipy as sp \n",
    "import numpy as np\n",
    "np.cov(cov_data.x,cov_data.y,ddof=1)"
   ]
  },
  {
   "cell_type": "code",
   "execution_count": 4,
   "id": "e4684138",
   "metadata": {},
   "outputs": [
    {
     "data": {
      "text/plain": [
       "array([[1.       , 0.7592719],\n",
       "       [0.7592719, 1.       ]])"
      ]
     },
     "execution_count": 4,
     "metadata": {},
     "output_type": "execute_result"
    }
   ],
   "source": [
    "# 상관 행렬\n",
    "np.corrcoef(cov_data.x,cov_data.y)"
   ]
  },
  {
   "cell_type": "code",
   "execution_count": 5,
   "id": "b06379d6",
   "metadata": {},
   "outputs": [
    {
     "data": {
      "text/html": [
       "<div>\n",
       "<style scoped>\n",
       "    .dataframe tbody tr th:only-of-type {\n",
       "        vertical-align: middle;\n",
       "    }\n",
       "\n",
       "    .dataframe tbody tr th {\n",
       "        vertical-align: top;\n",
       "    }\n",
       "\n",
       "    .dataframe thead th {\n",
       "        text-align: right;\n",
       "    }\n",
       "</style>\n",
       "<table border=\"1\" class=\"dataframe\">\n",
       "  <thead>\n",
       "    <tr style=\"text-align: right;\">\n",
       "      <th></th>\n",
       "      <th>x</th>\n",
       "      <th>y</th>\n",
       "    </tr>\n",
       "  </thead>\n",
       "  <tbody>\n",
       "    <tr>\n",
       "      <th>x</th>\n",
       "      <td>1.000000</td>\n",
       "      <td>0.759272</td>\n",
       "    </tr>\n",
       "    <tr>\n",
       "      <th>y</th>\n",
       "      <td>0.759272</td>\n",
       "      <td>1.000000</td>\n",
       "    </tr>\n",
       "  </tbody>\n",
       "</table>\n",
       "</div>"
      ],
      "text/plain": [
       "          x         y\n",
       "x  1.000000  0.759272\n",
       "y  0.759272  1.000000"
      ]
     },
     "execution_count": 5,
     "metadata": {},
     "output_type": "execute_result"
    }
   ],
   "source": [
    "# 상관 계수 : df.corr()\n",
    "cov_data.corr()"
   ]
  },
  {
   "cell_type": "code",
   "execution_count": 6,
   "id": "1811fd69",
   "metadata": {},
   "outputs": [
    {
     "data": {
      "text/plain": [
       "array([3.45476155, 3.17363897, 3.95123474, 5.7875383 , 4.06449416,\n",
       "       4.47716661, 3.86713753, 3.32115797, 4.81245563, 4.25155037])"
      ]
     },
     "execution_count": 6,
     "metadata": {},
     "output_type": "execute_result"
    }
   ],
   "source": [
    "# 평균 4, 표준편차 0.8인 정규분포에서 10개 샘플 추출\n",
    "from scipy import stats\n",
    "population = stats.norm(loc=4,scale=0.8)\n",
    "population.rvs(size=10)"
   ]
  },
  {
   "cell_type": "code",
   "execution_count": 7,
   "id": "0c7e1e1b",
   "metadata": {},
   "outputs": [
    {
     "data": {
      "text/plain": [
       "array([0., 0., 0., 0., 0., 0., 0., 0., 0., 0.])"
      ]
     },
     "execution_count": 7,
     "metadata": {},
     "output_type": "execute_result"
    }
   ],
   "source": [
    "sample_mean_array = np.zeros(10000)\n",
    "sample_mean_array[:10]"
   ]
  },
  {
   "cell_type": "code",
   "execution_count": 8,
   "id": "0cf663d2",
   "metadata": {},
   "outputs": [
    {
     "data": {
      "text/plain": [
       "array([3.92503032, 3.5356039 , 3.64085242, 3.82759207, 3.78371525,\n",
       "       4.27223674, 4.19766263, 3.59506654, 3.96210117, 4.00325139])"
      ]
     },
     "execution_count": 8,
     "metadata": {},
     "output_type": "execute_result"
    }
   ],
   "source": [
    "# Q. 배열에 샘플사이즈 10인 표본 10000개의 표본평균을 저장\n",
    "\n",
    "for i in range(10000):\n",
    "    sample_mean_array[i] = population.rvs(size = 10).mean()\n",
    "sample_mean_array[:10]\n"
   ]
  },
  {
   "cell_type": "code",
   "execution_count": 9,
   "id": "638e76ed",
   "metadata": {},
   "outputs": [
    {
     "data": {
      "text/plain": [
       "4.0"
      ]
     },
     "execution_count": 9,
     "metadata": {},
     "output_type": "execute_result"
    }
   ],
   "source": [
    "# 표본평균의 평균\n",
    "sample_mean_array.mean().round(2)"
   ]
  },
  {
   "cell_type": "code",
   "execution_count": 11,
   "id": "662dba62",
   "metadata": {},
   "outputs": [
    {
     "data": {
      "text/plain": [
       "0.25"
      ]
     },
     "execution_count": 11,
     "metadata": {},
     "output_type": "execute_result"
    }
   ],
   "source": [
    "# 표본평균의 표준편차\n",
    "sample_mean_array.std(ddof=1).round(2)\n",
    "# np.std(sample_mean_array, ddof=1).round(2)"
   ]
  },
  {
   "cell_type": "code",
   "execution_count": 13,
   "id": "d9b0397d",
   "metadata": {},
   "outputs": [
    {
     "data": {
      "text/plain": [
       "<AxesSubplot:ylabel='Count'>"
      ]
     },
     "execution_count": 13,
     "metadata": {},
     "output_type": "execute_result"
    },
    {
     "data": {
      "image/png": "[encoded data removed]",
      "text/plain": [
       "<Figure size 432x288 with 1 Axes>"
      ]
     },
     "metadata": {
      "needs_background": "light"
     },
     "output_type": "display_data"
    }
   ],
   "source": [
    "import seaborn as sns\n",
    "sns.histplot(sample_mean_array,color='black',kde=True)"
   ]
  },
  {
   "cell_type": "code",
   "execution_count": 14,
   "id": "6483a459",
   "metadata": {},
   "outputs": [
    {
     "data": {
      "text/plain": [
       "1001"
      ]
     },
     "execution_count": 14,
     "metadata": {},
     "output_type": "execute_result"
    }
   ],
   "source": [
    "# 샘플사이즈 변화\n",
    "size_array = np.arange(10,100100, 100)\n",
    "len(size_array)"
   ]
  },
  {
   "cell_type": "code",
   "execution_count": 19,
   "id": "27aa0573",
   "metadata": {},
   "outputs": [],
   "source": [
    "sample_mean_array_size=np.zeros(len(size_array))"
   ]
  },
  {
   "cell_type": "code",
   "execution_count": 21,
   "id": "490e6a09",
   "metadata": {},
   "outputs": [
    {
     "data": {
      "text/plain": [
       "array([3.92228729, 4.0383612 , 4.09185254, 4.01346562, 4.0047295 ,\n",
       "       4.05765729, 3.98466861, 3.99126955, 3.98909837, 4.03638272])"
      ]
     },
     "execution_count": 21,
     "metadata": {},
     "output_type": "execute_result"
    }
   ],
   "source": [
    "# 샘플사이즈를 변화시키면서 표본평균을 도출하는 시뮬레이션\n",
    "np.random.seed(1)\n",
    "for i in range(0,len(size_array)):\n",
    "    sample = population.rvs(size=size_array[i])\n",
    "    sample_mean_array_size[i] = np.mean(sample)\n",
    "sample_mean_array_size[:10]"
   ]
  },
  {
   "cell_type": "code",
   "execution_count": 22,
   "id": "977e72cd",
   "metadata": {},
   "outputs": [
    {
     "data": {
      "text/plain": [
       "Text(0, 0.5, 'sample mean')"
      ]
     },
     "execution_count": 22,
     "metadata": {},
     "output_type": "execute_result"
    },
    {
     "data": {
      "image/png": "[encoded data removed]",
      "text/plain": [
       "<Figure size 432x288 with 1 Axes>"
      ]
     },
     "metadata": {
      "needs_background": "light"
     },
     "output_type": "display_data"
    }
   ],
   "source": [
    "# 샘플사이즈가 커질수록 표본평균이 모평균(4)에 가까워짐.\n",
    "import matplotlib.pyplot as plt\n",
    "plt.plot(size_array, sample_mean_array_size,\n",
    "        color='black')\n",
    "plt.xlabel('sample size')\n",
    "plt.ylabel('sample mean')"
   ]
  },
  {
   "cell_type": "code",
   "execution_count": 25,
   "id": "4d7153c6",
   "metadata": {},
   "outputs": [
    {
     "data": {
      "text/plain": [
       "4.001728724963021"
      ]
     },
     "execution_count": 25,
     "metadata": {},
     "output_type": "execute_result"
    }
   ],
   "source": [
    "# 사용자 함수(표본평균 계산) : cal_sample_mean(size, n_trial)\n",
    "\n",
    "def cal_sample_mean(size, n_trial):\n",
    "    sample_mean_array = np.zeros(n_trial)\n",
    "    for i in range(n_trial):\n",
    "        sample_mean_array[i] = population.rvs(size=size).mean()\n",
    "    return sample_mean_array\n",
    "\n",
    "np.mean(cal_sample_mean(size=10,n_trial=10000))"
   ]
  },
  {
   "cell_type": "code",
   "execution_count": 26,
   "id": "56f5590e",
   "metadata": {},
   "outputs": [
    {
     "data": {
      "text/html": [
       "<div>\n",
       "<style scoped>\n",
       "    .dataframe tbody tr th:only-of-type {\n",
       "        vertical-align: middle;\n",
       "    }\n",
       "\n",
       "    .dataframe tbody tr th {\n",
       "        vertical-align: top;\n",
       "    }\n",
       "\n",
       "    .dataframe thead th {\n",
       "        text-align: right;\n",
       "    }\n",
       "</style>\n",
       "<table border=\"1\" class=\"dataframe\">\n",
       "  <thead>\n",
       "    <tr style=\"text-align: right;\">\n",
       "      <th></th>\n",
       "      <th>sample_mean</th>\n",
       "      <th>size</th>\n",
       "    </tr>\n",
       "  </thead>\n",
       "  <tbody>\n",
       "    <tr>\n",
       "      <th>0</th>\n",
       "      <td>3.735560</td>\n",
       "      <td>size_10</td>\n",
       "    </tr>\n",
       "    <tr>\n",
       "      <th>1</th>\n",
       "      <td>3.874879</td>\n",
       "      <td>size_10</td>\n",
       "    </tr>\n",
       "    <tr>\n",
       "      <th>2</th>\n",
       "      <td>4.059948</td>\n",
       "      <td>size_10</td>\n",
       "    </tr>\n",
       "    <tr>\n",
       "      <th>3</th>\n",
       "      <td>4.024522</td>\n",
       "      <td>size_10</td>\n",
       "    </tr>\n",
       "    <tr>\n",
       "      <th>4</th>\n",
       "      <td>4.307880</td>\n",
       "      <td>size_10</td>\n",
       "    </tr>\n",
       "    <tr>\n",
       "      <th>...</th>\n",
       "      <td>...</td>\n",
       "      <td>...</td>\n",
       "    </tr>\n",
       "    <tr>\n",
       "      <th>9995</th>\n",
       "      <td>3.608332</td>\n",
       "      <td>size_30</td>\n",
       "    </tr>\n",
       "    <tr>\n",
       "      <th>9996</th>\n",
       "      <td>4.022063</td>\n",
       "      <td>size_30</td>\n",
       "    </tr>\n",
       "    <tr>\n",
       "      <th>9997</th>\n",
       "      <td>3.898132</td>\n",
       "      <td>size_30</td>\n",
       "    </tr>\n",
       "    <tr>\n",
       "      <th>9998</th>\n",
       "      <td>3.967889</td>\n",
       "      <td>size_30</td>\n",
       "    </tr>\n",
       "    <tr>\n",
       "      <th>9999</th>\n",
       "      <td>4.145068</td>\n",
       "      <td>size_30</td>\n",
       "    </tr>\n",
       "  </tbody>\n",
       "</table>\n",
       "<p>30000 rows × 2 columns</p>\n",
       "</div>"
      ],
      "text/plain": [
       "      sample_mean     size\n",
       "0        3.735560  size_10\n",
       "1        3.874879  size_10\n",
       "2        4.059948  size_10\n",
       "3        4.024522  size_10\n",
       "4        4.307880  size_10\n",
       "...           ...      ...\n",
       "9995     3.608332  size_30\n",
       "9996     4.022063  size_30\n",
       "9997     3.898132  size_30\n",
       "9998     3.967889  size_30\n",
       "9999     4.145068  size_30\n",
       "\n",
       "[30000 rows x 2 columns]"
      ]
     },
     "execution_count": 26,
     "metadata": {},
     "output_type": "execute_result"
    }
   ],
   "source": [
    "# 샘플사이즈 10\n",
    "size_10 = cal_sample_mean(size=10,n_trial=10000)\n",
    "size_10_df = pd.DataFrame({'sample_mean':size_10,\n",
    "                          'size':np.tile('size_10',10000)})\n",
    "\n",
    "# 샘플사이즈 20\n",
    "size_20 = cal_sample_mean(size=20,n_trial=10000)\n",
    "size_20_df = pd.DataFrame({'sample_mean':size_20,\n",
    "                          'size':np.tile('size_20',10000)})\n",
    "\n",
    "# 샘플사이즈 30\n",
    "size_30 = cal_sample_mean(size=30,n_trial=10000)\n",
    "size_30_df = pd.DataFrame({'sample_mean':size_30,\n",
    "                          'size':np.tile('size_30',10000)})\n",
    "\n",
    "# 종합\n",
    "sim_result = pd.concat([size_10_df,size_20_df,size_30_df])\n",
    "sim_result"
   ]
  },
  {
   "cell_type": "code",
   "execution_count": 27,
   "id": "c8e32ae3",
   "metadata": {},
   "outputs": [
    {
     "data": {
      "text/plain": [
       "<AxesSubplot:xlabel='size', ylabel='sample_mean'>"
      ]
     },
     "execution_count": 27,
     "metadata": {},
     "output_type": "execute_result"
    },
    {
     "data": {
      "image/png": "[encoded data removed]",
      "text/plain": [
       "<Figure size 432x288 with 1 Axes>"
      ]
     },
     "metadata": {
      "needs_background": "light"
     },
     "output_type": "display_data"
    }
   ],
   "source": [
    "# Q. sim_result로 바이올린 플롯을 그리고 3개 그룹에 대한 인사이트를 기술하세요.\n",
    "sns.violinplot(x='size',y='sample_mean',\n",
    "              data=sim_result,color='gray')"
   ]
  },
  {
   "cell_type": "code",
   "execution_count": null,
   "id": "6a16cc79",
   "metadata": {},
   "outputs": [],
   "source": [
    "# 세 분포 모두 평균 4.0을 중심으로 종모양의 분포 형태를 갖는다. \n",
    "# size=10일때는 size=20,30일때보다 분포가 넓게 퍼져있고, \n",
    "# 샘플사이즈가 커질수록 분포가 평균값에 몰려있다는 것을 확인할 수 있다. \n",
    "# 즉, 샘플사이즈가 클수록 표본에서 구한 평균이 모평균과 가까운 값일 확률이 높아진다는 의미이다.\n"
   ]
  },
  {
   "cell_type": "code",
   "execution_count": null,
   "id": "ea3b6505",
   "metadata": {},
   "outputs": [],
   "source": [
    "# 추출횟수가 같더라도 샘플의 사이즈가 커질수록 표본평균이 모평균에 근사함\n",
    "# 추출횟수가 같더라도 샘플의 사이즈가 커질수록 표준편차가 작아짐\n"
   ]
  },
  {
   "cell_type": "code",
   "execution_count": null,
   "id": "a1e9b107",
   "metadata": {},
   "outputs": [],
   "source": [
    "# 1. 샘플 사이즈가 커질수록 표본평균에 근접한 값의 밀도가 높아짐.\n",
    "# 2. 즉 샘플 사이즈가 커질수록 표본평균이 모평균에 가까워짐.\n",
    "# 3. 샘플 사이즈의 크기가 중요해진다."
   ]
  },
  {
   "cell_type": "code",
   "execution_count": 28,
   "id": "a0981931",
   "metadata": {},
   "outputs": [
    {
     "data": {
      "text/plain": [
       "array([  2,   4,   6,   8,  10,  12,  14,  16,  18,  20,  22,  24,  26,\n",
       "        28,  30,  32,  34,  36,  38,  40,  42,  44,  46,  48,  50,  52,\n",
       "        54,  56,  58,  60,  62,  64,  66,  68,  70,  72,  74,  76,  78,\n",
       "        80,  82,  84,  86,  88,  90,  92,  94,  96,  98, 100])"
      ]
     },
     "execution_count": 28,
     "metadata": {},
     "output_type": "execute_result"
    }
   ],
   "source": [
    "size_array = np.arange(2,102,2)\n",
    "size_array"
   ]
  },
  {
   "cell_type": "code",
   "execution_count": 29,
   "id": "d9b28229",
   "metadata": {},
   "outputs": [],
   "source": [
    "# 표본평균의 표준편차를 저장할 배열\n",
    "sample_mean_std_array = np.zeros(len(size_array))"
   ]
  },
  {
   "cell_type": "code",
   "execution_count": 31,
   "id": "439e844a",
   "metadata": {},
   "outputs": [
    {
     "data": {
      "text/plain": [
       "Text(0, 0.5, 'mean std value')"
      ]
     },
     "execution_count": 31,
     "metadata": {},
     "output_type": "execute_result"
    },
    {
     "data": {
      "image/png": "[encoded data removed]",
      "text/plain": [
       "<Figure size 432x288 with 1 Axes>"
      ]
     },
     "metadata": {
      "needs_background": "light"
     },
     "output_type": "display_data"
    }
   ],
   "source": [
    "# 시뮬레이션 : 샘플사이즈가 커질수록 표본평균의 표준편차가 작아짐\n",
    "np.random.seed(1)\n",
    "for i in range(0,len(size_array)):\n",
    "    sample_mean = cal_sample_mean(size=size_array[i],n_trial=100)\n",
    "    sample_mean_std_array[i] = np.std(sample_mean,ddof=1)\n",
    "\n",
    "plt.plot(size_array, sample_mean_std_array, color='black')\n",
    "plt.xlabel('sample size')\n",
    "plt.ylabel('mean std value')"
   ]
  },
  {
   "cell_type": "code",
   "execution_count": 32,
   "id": "c2448961",
   "metadata": {},
   "outputs": [
    {
     "data": {
      "text/plain": [
       "array([0.56568542, 0.4       , 0.32659863, 0.28284271, 0.25298221,\n",
       "       0.23094011, 0.21380899, 0.2       , 0.18856181, 0.17888544,\n",
       "       0.17056057, 0.16329932, 0.15689291, 0.15118579, 0.14605935,\n",
       "       0.14142136, 0.13719887, 0.13333333, 0.12977714, 0.12649111,\n",
       "       0.12344268, 0.12060454, 0.11795356, 0.11547005, 0.11313708,\n",
       "       0.11094004, 0.10886621, 0.1069045 , 0.10504515, 0.10327956,\n",
       "       0.1016001 , 0.1       , 0.09847319, 0.09701425, 0.09561829,\n",
       "       0.0942809 , 0.09299811, 0.09176629, 0.09058216, 0.08944272,\n",
       "       0.08834522, 0.08728716, 0.08626622, 0.08528029, 0.0843274 ,\n",
       "       0.08340577, 0.0825137 , 0.08164966, 0.0808122 , 0.08      ])"
      ]
     },
     "execution_count": 32,
     "metadata": {},
     "output_type": "execute_result"
    }
   ],
   "source": [
    "# 표준오차 : 표본평균과 모평균과의 표준적인 차이. \n",
    "# 평균의 추정치에 대한 불확실도를 수치화 \n",
    "# 샘플 사이즈가 커지면 표준오차는 작아짐\n",
    "\n",
    "standard_error = 0.8/np.sqrt(size_array)\n",
    "standard_error"
   ]
  },
  {
   "cell_type": "code",
   "execution_count": 33,
   "id": "7dba62ec",
   "metadata": {},
   "outputs": [
    {
     "data": {
      "text/plain": [
       "Text(0, 0.5, 'mean std value')"
      ]
     },
     "execution_count": 33,
     "metadata": {},
     "output_type": "execute_result"
    },
    {
     "data": {
      "image/png": "[encoded data removed]",
      "text/plain": [
       "<Figure size 432x288 with 1 Axes>"
      ]
     },
     "metadata": {
      "needs_background": "light"
     },
     "output_type": "display_data"
    }
   ],
   "source": [
    "# 시뮬레이션 결과와 표준오차간 비교\n",
    "plt.plot(size_array,sample_mean_std_array,color='black')\n",
    "plt.plot(size_array,standard_error,color='red',linestyle='dotted')\n",
    "plt.xlabel('sample size')\n",
    "plt.ylabel('mean std value')"
   ]
  },
  {
   "cell_type": "code",
   "execution_count": 34,
   "id": "b7bc75ab",
   "metadata": {},
   "outputs": [
    {
     "name": "stdout",
     "output_type": "stream",
     "text": [
      "[    4     8    12 ...  9992  9996 10000]\n"
     ]
    },
    {
     "data": {
      "text/plain": [
       "Text(10100, 0.62, '0.64')"
      ]
     },
     "execution_count": 34,
     "metadata": {},
     "output_type": "execute_result"
    },
    {
     "data": {
      "image/png": "[encoded data removed]",
      "text/plain": [
       "<Figure size 432x288 with 1 Axes>"
      ]
     },
     "metadata": {
      "needs_background": "light"
     },
     "output_type": "display_data"
    }
   ],
   "source": [
    "# 과제\n",
    "# Q. 샘플 사이즈가 커지면 불편분산은 모분산(0.64)에 가까워 진다.는 것을 \n",
    "# 그래프로 설명하세요.\n",
    "\n",
    "sample_size = np.arange(4,10004,4)\n",
    "sample_size\n",
    "print(sample_size)\n",
    "sample_var = np.zeros(len(sample_size))\n",
    "\n",
    "for i in range(len(sample_size)):\n",
    "    sample = stats.norm(10,0.8).rvs(size=sample_size[i])\n",
    "    var = np.var(sample,ddof=1)\n",
    "    sample_var[i] = var\n",
    "\n",
    "tolist = [0.64 for x in range(2500)]\n",
    "\n",
    "plt.plot(sample_size,sample_var)\n",
    "plt.plot(sample_size,tolist,color='red')\n",
    "plt.xlabel('sample_size',fontsize=10)\n",
    "plt.ylabel('variance value',fontsize=10)\n",
    "plt.annotate(f'{0.64}',xy=(10100,0.62),color='red',fontsize=15)"
   ]
  },
  {
   "cell_type": "code",
   "execution_count": 35,
   "id": "8a3f81a0",
   "metadata": {},
   "outputs": [
    {
     "data": {
      "text/plain": [
       "0.49867785050179086"
      ]
     },
     "execution_count": 35,
     "metadata": {},
     "output_type": "execute_result"
    }
   ],
   "source": [
    "# 정규분포의 확률밀도 계산\n",
    "stats.norm.pdf(loc=4,scale=0.8,x=4)"
   ]
  },
  {
   "cell_type": "code",
   "execution_count": 36,
   "id": "481bb043",
   "metadata": {},
   "outputs": [
    {
     "data": {
      "text/plain": [
       "[<matplotlib.lines.Line2D at 0x200a48fab50>]"
      ]
     },
     "execution_count": 36,
     "metadata": {},
     "output_type": "execute_result"
    },
    {
     "data": {
      "image/png": "[encoded data removed]",
      "text/plain": [
       "<Figure size 432x288 with 1 Axes>"
      ]
     },
     "metadata": {
      "needs_background": "light"
     },
     "output_type": "display_data"
    }
   ],
   "source": [
    "x_plot = np.arange(1,7.1,0.1)\n",
    "plt.plot(x_plot,stats.norm.pdf(x=x_plot,loc=4,scale=0.8),color='black')"
   ]
  },
  {
   "cell_type": "code",
   "execution_count": 38,
   "id": "f8810751",
   "metadata": {},
   "outputs": [
    {
     "name": "stdout",
     "output_type": "stream",
     "text": [
      "0.49867785050179086\n"
     ]
    },
    {
     "data": {
      "text/plain": [
       "0.2283113567362774"
      ]
     },
     "execution_count": 38,
     "metadata": {},
     "output_type": "execute_result"
    }
   ],
   "source": [
    "norm_dist = stats.norm(loc=4,scale=0.8)\n",
    "print(norm_dist.pdf(x=4))\n",
    "norm_dist.pdf(x=3)"
   ]
  },
  {
   "cell_type": "code",
   "execution_count": 39,
   "id": "78751965",
   "metadata": {},
   "outputs": [
    {
     "data": {
      "text/plain": [
       "0.9999115827147992"
      ]
     },
     "execution_count": 39,
     "metadata": {},
     "output_type": "execute_result"
    }
   ],
   "source": [
    "# 누적분포함수\n",
    "stats.norm.cdf(loc=4,scale=0.8,x=7)"
   ]
  },
  {
   "cell_type": "code",
   "execution_count": 40,
   "id": "aa106a42",
   "metadata": {},
   "outputs": [
    {
     "data": {
      "text/plain": [
       "[<matplotlib.lines.Line2D at 0x200a4955a00>]"
      ]
     },
     "execution_count": 40,
     "metadata": {},
     "output_type": "execute_result"
    },
    {
     "data": {
      "image/png": "[encoded data removed]",
      "text/plain": [
       "<Figure size 432x288 with 1 Axes>"
      ]
     },
     "metadata": {
      "needs_background": "light"
     },
     "output_type": "display_data"
    }
   ],
   "source": [
    "x_plot=np.arange(1,7.1,0.1)\n",
    "plt.plot(x_plot,stats.norm.cdf(x=x_plot,loc=4,scale=0.8),color='black')"
   ]
  },
  {
   "cell_type": "code",
   "execution_count": 41,
   "id": "07aa6d09",
   "metadata": {},
   "outputs": [
    {
     "data": {
      "text/plain": [
       "0.5"
      ]
     },
     "execution_count": 41,
     "metadata": {},
     "output_type": "execute_result"
    }
   ],
   "source": [
    "stats.norm.cdf(loc=4,scale=0.8,x=4)"
   ]
  },
  {
   "cell_type": "code",
   "execution_count": 44,
   "id": "353ccb97",
   "metadata": {},
   "outputs": [
    {
     "data": {
      "text/plain": [
       "4.0"
      ]
     },
     "execution_count": 44,
     "metadata": {},
     "output_type": "execute_result"
    }
   ],
   "source": [
    "# 퍼센트포인트\n",
    "stats.norm.ppf(loc=4,scale=0.8,q=0.5)"
   ]
  },
  {
   "cell_type": "code",
   "execution_count": 45,
   "id": "bc6c715f",
   "metadata": {},
   "outputs": [
    {
     "data": {
      "text/plain": [
       "0.5"
      ]
     },
     "execution_count": 45,
     "metadata": {},
     "output_type": "execute_result"
    }
   ],
   "source": [
    "# 하측확률\n",
    "stats.norm.cdf(loc=4,scale=0.8,x=4)"
   ]
  },
  {
   "cell_type": "markdown",
   "id": "f8e0d3c3",
   "metadata": {},
   "source": [
    "t분포는 모집단이 정규분포를 하더라도 분산 σ²이 알려져 있지 않고 표본의 수가 적은 경우에, 평균 μ에 대한 신뢰구간 추정 및 가설검정에 아주 유용하게 쓰이는 분포\n",
    "\n",
    "[t분포의 특성]  \n",
    "1. t분포는 표준정규분포처럼 0을 중심으로 종형의 모습을 가진 대칭 분포이다.\n",
    "2. t분포의 꼬리는 표준정규분포보다 두껍다(fat tail).\n",
    "3. t분포는 자유도 n에 따라 모습이 변하는데, 자유도 n이 커짐에 따라 표준정규분포 N(0,1)에 수렴한다.  \n",
    "통상 모집단의 분산이 알려져 있지 않은 경우, 표분분포를 결정할 때 표본의 크기가 30 이하이면 t분포를, 그 크기가 30 이상이면 표준정규분포를 이용\n",
    "https://math100.tistory.com/42"
   ]
  },
  {
   "cell_type": "code",
   "execution_count": 2,
   "id": "f9ab446e",
   "metadata": {},
   "outputs": [],
   "source": [
    "# t값의 표본분포\n",
    "import numpy as np\n",
    "from scipy import stats\n",
    "np.random.seed(1)\n",
    "t_value_array = np.zeros(10000)\n",
    "norm_dist = stats.norm(loc=4,scale=0.8)\n",
    "for i in range(0,10000):\n",
    "    sample = norm_dist.rvs(size=10)\n",
    "    sample_mean = np.mean(sample)\n",
    "    sample_std = np.std(sample,ddof=1)\n",
    "    sample_se = sample_std/np.sqrt(len(sample))\n",
    "    t_value_array[i] = (sample_mean - 4) / sample_se"
   ]
  },
  {
   "cell_type": "code",
   "execution_count": 4,
   "id": "56d649f3",
   "metadata": {},
   "outputs": [
    {
     "data": {
      "text/plain": [
       "10000"
      ]
     },
     "execution_count": 4,
     "metadata": {},
     "output_type": "execute_result"
    }
   ],
   "source": [
    "len(t_value_array)"
   ]
  },
  {
   "cell_type": "code",
   "execution_count": 54,
   "id": "579fee42",
   "metadata": {},
   "outputs": [
    {
     "data": {
      "text/plain": [
       "[<matplotlib.lines.Line2D at 0x200a6395be0>]"
      ]
     },
     "execution_count": 54,
     "metadata": {},
     "output_type": "execute_result"
    },
    {
     "data": {
      "image/png": "[encoded data removed]",
      "text/plain": [
       "<Figure size 432x288 with 1 Axes>"
      ]
     },
     "metadata": {
      "needs_background": "light"
     },
     "output_type": "display_data"
    }
   ],
   "source": [
    "# t분포\n",
    "import warnings\n",
    "warnings.filterwarnings('ignore')\n",
    "sns.distplot(t_value_array,color='black')\n",
    "\n",
    "# 표준정규분포의 확률밀도\n",
    "x = np.arange(-8,8.1,0.1)\n",
    "plt.plot(x,stats.norm.pdf(x=x),\n",
    "        color='black',linestyle='dotted')"
   ]
  },
  {
   "cell_type": "code",
   "execution_count": 55,
   "id": "552e78f4",
   "metadata": {},
   "outputs": [
    {
     "data": {
      "text/plain": [
       "[<matplotlib.lines.Line2D at 0x200a4c88ca0>]"
      ]
     },
     "execution_count": 55,
     "metadata": {},
     "output_type": "execute_result"
    },
    {
     "data": {
      "image/png": "[encoded data removed]",
      "text/plain": [
       "<Figure size 432x288 with 1 Axes>"
      ]
     },
     "metadata": {
      "needs_background": "light"
     },
     "output_type": "display_data"
    }
   ],
   "source": [
    "# 자유도 n이 커짐에 따라 표준정규분포 N(0,1)에 수렴\n",
    "plt.plot(x,stats.norm.pdf(x=x),\n",
    "        color='black',linestyle='dotted')\n",
    "plt.plot(x,stats.t.pdf(x=x,df=5),\n",
    "        color='blue')\n",
    "plt.plot(x,stats.t.pdf(x=x,df=1),\n",
    "        color = 'red')"
   ]
  },
  {
   "cell_type": "markdown",
   "id": "e3b6e27b",
   "metadata": {},
   "source": [
    "#### 통계적 추정 : 모수 즉 모집단의 파라미터를 추정\n",
    "- 모집단 분포가 정규분포임을 가정했을 때 모수를 알면 모집단 분포를 추정할 수 있음\n",
    "- 점추정 : 모수를 어느 1개의 값으로 추정하는 방법\n",
    " - 모평균 추정에 표본평균을 사용하는데 표본평균은 불편성과 일치성을 가지고 있는 통계량이기 때문임\n",
    " - 모분산의 점추정값으로 표본에서 계산된 통계량으로 불편분산을 사용\n",
    "- 구간추정 : 추정값이 폭을 가지게 하는 추정 방법. 추정의 폭 계산에는 확률의 개념을 사용\n",
    " - 폭을 가지므로 추정오차를 가미할 수 있으며 추정오차가 작으면 구간 추정의 폭이 좁아짐.\n",
    " - 샘플사이즈가 커져도 구간 추정의 폭은 좁아짐\n",
    "- 신뢰계수(신뢰수준)와 신뢰구간\n",
    " - 신뢰계수란 구간 추정의 폭에 대한 신뢰 정도를 확률로 표현한 것. 95%, 99%\n",
    " - 신뢰구간이란 특정 신뢰계수를 만족하는 구간\n",
    " - 신뢰계수가 클수록 신뢰구간의 폭이 넓어짐\n",
    "- 신뢰한계 : 신뢰구간의 하한값과 상한값\n",
    "- 신뢰구간 계산 : \"(표본평균 - 모평균) / 표준오차\"로 계산한 t값. 구간추정을 할 때는 t분포의 퍼센트포인트 사용\n",
    " - 신뢰계수를 95%라고 했을 때 t분포를 따른다면 2.5% 지점과 97.5% 지점을 계산. \n",
    " - t분포를 따르는 변수가 이 구간에 들어갈 확률은 95%가 됨\n",
    " - 표본의 분산 크기가 커지면 신뢰구간의 폭이 넓어짐\n",
    " - 샘플사이즈가 커지면 자유도가 커지고 표준오차가 작아짐\n",
    " - 신뢰계수가 커질수록 안전해진다고 볼 수 있으며 신뢰구간의 폭이 넓어짐\n",
    " \n",
    "[모평균 μ의 신뢰구간을 추정]  \n",
    "\n",
    "만약 누군가가 점추정를 통해 \"A후보의 지지율은 54.3%입니다\"라고 말한다면, 자신감 있어 보이더라도 틀린 말이 될 수 있다. 실제 지지율이 54.9%라면 말이다. 이와 같은 점추정은 틀릴 가능성이 높다. 반면 구간추정을 통해 \"A후보의 지지율은 신뢰수준 95%로 신뢰구간 51.3%~57.3% 내에 있습니다\"라고 말한다면, 좀 더 안전하다. 물론 구간추정도 틀릴 수 있지만, 점추정에 비하면 틀릴 가능성이 적다.  \n",
    "\n",
    "모수가 신뢰구간 안에 포함되지 않을 확률을 보통 α 로 표현한다. 자연스럽게 모수가 신뢰구간 안에 포함될 확률, 즉 신뢰수준은 1 − α로 표현된다.  \n",
    "만약 신뢰수준 1 − α이 0.95 즉, 95%라면 α = 0.05 이다.\n",
    "\n",
    " <img src='신뢰구간.jpg' STYLE='width:300px;'>\n",
    " \n",
    " 예를 들어 그림 6에서처럼 신뢰 수준이 95%이고 표본 오차가 ±3%(즉, 2 x SEM = 3%)인 여론 조사에서 A 후보와 B 후보에 대한 지지율 조사를 했다고 해보자. 이 때, 100명의 사람에게 질문한 결과 A 후보와 B 후보에 대한 지지율이 각각 평균 40%, 36%가 나왔다고 하자. 여기서 우리에게 주어진 정보인 신뢰 수준 95%, 표본오차 ±3%에 따르면 A 후보 지지율의 모비율은 37-43% 사이에 존재할 확률이 95%이고, B 후보 모비율은 33-39% 사이에 존재할 확률이 95%일 것이다.\n",
    "\n",
    "여기서 A 후보와 B 후보에 대한 두 구간 37-43%와 33-39%이 A 후보와 B 후보에 대한 95% 신뢰 구간이다.\n",
    "\n",
    "여기까지 잘 이해했다면 B 후보의 모비율이 더 높을 가능성도 존재한다는 것도 알 수 있다. 왜냐면 A 후보의 지지율에 대한 모비율이 37%, B 후보에 대한 지지율이 39%일 수도 있기 때문이다"
   ]
  },
  {
   "cell_type": "code",
   "execution_count": 57,
   "id": "67886f08",
   "metadata": {},
   "outputs": [
    {
     "data": {
      "text/html": [
       "<div>\n",
       "<style scoped>\n",
       "    .dataframe tbody tr th:only-of-type {\n",
       "        vertical-align: middle;\n",
       "    }\n",
       "\n",
       "    .dataframe tbody tr th {\n",
       "        vertical-align: top;\n",
       "    }\n",
       "\n",
       "    .dataframe thead th {\n",
       "        text-align: right;\n",
       "    }\n",
       "</style>\n",
       "<table border=\"1\" class=\"dataframe\">\n",
       "  <thead>\n",
       "    <tr style=\"text-align: right;\">\n",
       "      <th></th>\n",
       "      <th>length</th>\n",
       "    </tr>\n",
       "  </thead>\n",
       "  <tbody>\n",
       "    <tr>\n",
       "      <th>0</th>\n",
       "      <td>4.352982</td>\n",
       "    </tr>\n",
       "    <tr>\n",
       "      <th>1</th>\n",
       "      <td>3.735304</td>\n",
       "    </tr>\n",
       "    <tr>\n",
       "      <th>2</th>\n",
       "      <td>5.944617</td>\n",
       "    </tr>\n",
       "    <tr>\n",
       "      <th>3</th>\n",
       "      <td>3.798326</td>\n",
       "    </tr>\n",
       "    <tr>\n",
       "      <th>4</th>\n",
       "      <td>4.087688</td>\n",
       "    </tr>\n",
       "    <tr>\n",
       "      <th>5</th>\n",
       "      <td>5.265985</td>\n",
       "    </tr>\n",
       "    <tr>\n",
       "      <th>6</th>\n",
       "      <td>3.272614</td>\n",
       "    </tr>\n",
       "    <tr>\n",
       "      <th>7</th>\n",
       "      <td>3.526691</td>\n",
       "    </tr>\n",
       "    <tr>\n",
       "      <th>8</th>\n",
       "      <td>4.150083</td>\n",
       "    </tr>\n",
       "    <tr>\n",
       "      <th>9</th>\n",
       "      <td>3.736104</td>\n",
       "    </tr>\n",
       "  </tbody>\n",
       "</table>\n",
       "</div>"
      ],
      "text/plain": [
       "     length\n",
       "0  4.352982\n",
       "1  3.735304\n",
       "2  5.944617\n",
       "3  3.798326\n",
       "4  4.087688\n",
       "5  5.265985\n",
       "6  3.272614\n",
       "7  3.526691\n",
       "8  4.150083\n",
       "9  3.736104"
      ]
     },
     "execution_count": 57,
     "metadata": {},
     "output_type": "execute_result"
    }
   ],
   "source": [
    "df = pd.read_csv('dataset/5_7_fl.csv')\n",
    "df"
   ]
  },
  {
   "cell_type": "code",
   "execution_count": 58,
   "id": "f771e910",
   "metadata": {},
   "outputs": [
    {
     "data": {
      "text/plain": [
       "0    4.352982\n",
       "1    3.735304\n",
       "2    5.944617\n",
       "3    3.798326\n",
       "4    4.087688\n",
       "5    5.265985\n",
       "6    3.272614\n",
       "7    3.526691\n",
       "8    4.150083\n",
       "9    3.736104\n",
       "Name: length, dtype: float64"
      ]
     },
     "execution_count": 58,
     "metadata": {},
     "output_type": "execute_result"
    }
   ],
   "source": [
    "fish = df['length']\n",
    "fish"
   ]
  },
  {
   "cell_type": "code",
   "execution_count": 59,
   "id": "8285f938",
   "metadata": {},
   "outputs": [
    {
     "data": {
      "text/plain": [
       "4.19"
      ]
     },
     "execution_count": 59,
     "metadata": {},
     "output_type": "execute_result"
    }
   ],
   "source": [
    "# 모평균의 점추정\n",
    "mu = np.mean(fish)\n",
    "round(mu,2)"
   ]
  },
  {
   "cell_type": "code",
   "execution_count": 61,
   "id": "6a7d9901",
   "metadata": {},
   "outputs": [
    {
     "data": {
      "text/plain": [
       "0.68"
      ]
     },
     "execution_count": 61,
     "metadata": {},
     "output_type": "execute_result"
    }
   ],
   "source": [
    "# 모분산의 점추정\n",
    "sigma_2 = np.var(fish,ddof=1)\n",
    "round(sigma_2,2)"
   ]
  },
  {
   "cell_type": "code",
   "execution_count": 62,
   "id": "ce524633",
   "metadata": {},
   "outputs": [
    {
     "data": {
      "text/plain": [
       "0.26"
      ]
     },
     "execution_count": 62,
     "metadata": {},
     "output_type": "execute_result"
    }
   ],
   "source": [
    "# 표준오차\n",
    "sigma = np.std(fish,ddof=1)\n",
    "se = sigma/np.sqrt(len(fish))\n",
    "round(se,2)"
   ]
  },
  {
   "cell_type": "code",
   "execution_count": 64,
   "id": "549d08ad",
   "metadata": {},
   "outputs": [],
   "source": [
    "df = len(fish) - 1"
   ]
  },
  {
   "cell_type": "code",
   "execution_count": 65,
   "id": "1407060e",
   "metadata": {},
   "outputs": [
    {
     "data": {
      "text/plain": [
       "(3.5970100568358245, 4.777068592173221)"
      ]
     },
     "execution_count": 65,
     "metadata": {},
     "output_type": "execute_result"
    }
   ],
   "source": [
    "# 신뢰구간\n",
    "interval = stats.t.interval(alpha=0.95, df=df, loc=mu, scale=se)\n",
    "interval"
   ]
  },
  {
   "cell_type": "code",
   "execution_count": 66,
   "id": "da2b1ca1",
   "metadata": {},
   "outputs": [
    {
     "data": {
      "text/plain": [
       "(-1.7132533521824618, 10.087332001191509)"
      ]
     },
     "execution_count": 66,
     "metadata": {},
     "output_type": "execute_result"
    }
   ],
   "source": [
    "# 표준편차를 10배로 늘려서 신뢰구간 계산\n",
    "se2 = (sigma*10) / np.sqrt(len(fish))\n",
    "stats.t.interval(alpha=0.95,df=df,loc=mu,scale=se2)"
   ]
  },
  {
   "cell_type": "code",
   "execution_count": 67,
   "id": "3de7d2b1",
   "metadata": {},
   "outputs": [
    {
     "data": {
      "text/plain": [
       "(4.0233803082774395, 4.350698340731607)"
      ]
     },
     "execution_count": 67,
     "metadata": {},
     "output_type": "execute_result"
    }
   ],
   "source": [
    "# 샘플사이즈를 10배로 늘려서 신뢰구간 계산\n",
    "df2 = (len(fish)*10) - 1\n",
    "se3 = sigma/np.sqrt(len(fish)*10)\n",
    "stats.t.interval(alpha=0.95,df=df2,loc=mu,scale=se3)"
   ]
  },
  {
   "cell_type": "code",
   "execution_count": 68,
   "id": "57bcf16e",
   "metadata": {},
   "outputs": [
    {
     "data": {
      "text/plain": [
       "(3.3393979149413973, 5.034680734067649)"
      ]
     },
     "execution_count": 68,
     "metadata": {},
     "output_type": "execute_result"
    }
   ],
   "source": [
    "# 신뢰계수가 커질수록 안전해진다고 볼 수 있으며 신뢰구간의 폭이 넓어짐\n",
    "stats.t.interval(alpha=0.99, df=df, loc=mu, scale=se)"
   ]
  }
 ],
 "metadata": {
  "kernelspec": {
   "display_name": "Python 3",
   "language": "python",
   "name": "python3"
  },
  "language_info": {
   "codemirror_mode": {
    "name": "ipython",
    "version": 3
   },
   "file_extension": ".py",
   "mimetype": "text/x-python",
   "name": "python",
   "nbconvert_exporter": "python",
   "pygments_lexer": "ipython3",
   "version": "3.8.10"
  }
 },
 "nbformat": 4,
 "nbformat_minor": 5
}
